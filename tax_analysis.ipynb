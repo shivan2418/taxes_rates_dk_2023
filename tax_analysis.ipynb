{
 "cells": [
  {
   "cell_type": "code",
   "execution_count": 61,
   "metadata": {
    "collapsed": true
   },
   "outputs": [],
   "source": [
    "import pandas as pd\n",
    "import itertools\n",
    "tax_df = pd.read_csv('./tax_df.csv')"
   ]
  },
  {
   "cell_type": "code",
   "execution_count": 62,
   "outputs": [],
   "source": [
    "df=tax_df.reset_index()"
   ],
   "metadata": {
    "collapsed": false
   }
  },
  {
   "cell_type": "code",
   "execution_count": 57,
   "outputs": [],
   "source": [],
   "metadata": {
    "collapsed": false
   }
  },
  {
   "cell_type": "code",
   "execution_count": 64,
   "outputs": [],
   "source": [
    "increments = tax_df.loc[1,'pretax_income'] - tax_df.loc[0,\"pretax_income\"]\n",
    "\n",
    "after_tax_income_lst = list(tax_df.after_tax_income)\n",
    "after_tax_increases = [0]\n",
    "for before,after in zip(after_tax_income_lst,after_tax_income_lst[1:]):\n",
    "    delta = after-before\n",
    "    after_tax_increases.append(delta)\n",
    "tax_df['marginal_after_tax_income_increase']=after_tax_increases\n",
    "tax_df['marginal_tax'] = 1 - tax_df.marginal_after_tax_income_increase/increments\n",
    "tax_df.loc[0,'marginal_tax'] = 0.08\n",
    "\n",
    "tax_df['total_tax_rate'] = tax_df['tax']/tax_df['pretax_income']\n",
    "tax_df.loc[0,'total_tax_rate'] = 0\n"
   ],
   "metadata": {
    "collapsed": false
   }
  },
  {
   "cell_type": "code",
   "execution_count": 66,
   "outputs": [],
   "source": [
    "tax_df.to_json('tax_df_full.json',orient='table',index=False)"
   ],
   "metadata": {
    "collapsed": false
   }
  }
 ],
 "metadata": {
  "kernelspec": {
   "display_name": "Python 3",
   "language": "python",
   "name": "python3"
  },
  "language_info": {
   "codemirror_mode": {
    "name": "ipython",
    "version": 2
   },
   "file_extension": ".py",
   "mimetype": "text/x-python",
   "name": "python",
   "nbconvert_exporter": "python",
   "pygments_lexer": "ipython2",
   "version": "2.7.6"
  }
 },
 "nbformat": 4,
 "nbformat_minor": 0
}
